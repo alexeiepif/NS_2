{
 "cells": [
  {
   "cell_type": "markdown",
   "metadata": {
    "id": "_0527B7Z6fN3"
   },
   "source": [
    "# Задание"
   ]
  },
  {
   "cell_type": "markdown",
   "metadata": {
    "id": "tyt7Xg5G4nVe"
   },
   "source": [
    "Используя шаблон ноутбука для распознавания видов одежды и аксессуаров из набора **fashion_mnist**, выполните следующие действия:\n",
    "\n",
    "1. Создайте **9** моделей нейронной сети с различными архитектурами и сравните в них значения точности на проверочной выборке (на последней эпохе) и на тестовой выборке.  Используйте следующее деление: обучающая выборка - **50000** примеров, проверочная выборка - **10000** примеров, тестовая выборка - **10000** примеров.\n",
    "\n",
    "2. Создайте сравнительную таблицу в конце ноутбука, напишите свои выводы по результатам проведенных тестов."
   ]
  },
  {
   "cell_type": "markdown",
   "metadata": {
    "id": "MYbDjFwh6w5f"
   },
   "source": [
    "# Шаблон ноутбука"
   ]
  },
  {
   "cell_type": "markdown",
   "metadata": {
    "id": "iKVf4kq5_LkZ"
   },
   "source": [
    "## Импорт библиотек"
   ]
  },
  {
   "cell_type": "code",
   "execution_count": 1,
   "metadata": {
    "id": "b2-CygQC2DMy"
   },
   "outputs": [],
   "source": [
    "# Отрисовка графиков\n",
    "import matplotlib.pyplot as plt\n",
    "\n",
    "# Библиотека для работы с массивами\n",
    "import numpy as np\n",
    "\n",
    "# Библиотека для работы с таблицами\n",
    "import pandas as pd\n",
    "from IPython.display import display\n",
    "\n",
    "# Для загрузки датасета\n",
    "from keras.datasets import fashion_mnist\n",
    "\n",
    "# Разделение данных на выборки\n",
    "from sklearn.model_selection import train_test_split\n",
    "\n",
    "# Утилиты для to_categorical()\n",
    "from tensorflow.keras import utils\n",
    "\n",
    "# Основные слои\n",
    "from tensorflow.keras.layers import BatchNormalization, Dense, Dropout, Input\n",
    "\n",
    "# Последовательная модель НС\n",
    "from tensorflow.keras.models import Sequential\n",
    "\n",
    "# Алгоритмы оптимизации для обучения модели\n",
    "from tensorflow.keras.optimizers import Adam\n",
    "\n",
    "# Отрисовывать изображения в ноутбуке, а не в консоль или файл\n",
    "%matplotlib inline"
   ]
  },
  {
   "cell_type": "markdown",
   "metadata": {
    "id": "CgHbBuEU_Ied"
   },
   "source": [
    "## Описание базы"
   ]
  },
  {
   "cell_type": "markdown",
   "metadata": {
    "id": "Ts1x7caq8MAO"
   },
   "source": [
    "### База: одежда, обувь и аксессуары\n",
    "- Датасет состоит из набора изображений одежды, обуви, аксессуаров и их классов.\n",
    "- Изображения одного вида хранятся в numpy-массиве **(28, 28)** - **x_train, x_test**.\n",
    "- База содержит **10** классов: (Футболка, Брюки, Пуловер, Платье, Пальто, Сандалии/Босоножки, Рубашка, Кроссовки, Сумочка, Ботильоны) - **y_train, y_test**.\n",
    "- Примеров: train - **60000**, test - **10000**."
   ]
  },
  {
   "cell_type": "markdown",
   "metadata": {
    "id": "f7nIQfV8_FSt"
   },
   "source": [
    "### Вывод примеров"
   ]
  },
  {
   "cell_type": "code",
   "execution_count": 3,
   "metadata": {
    "colab": {
     "base_uri": "https://localhost:8080/"
    },
    "id": "yHTW8aud4FV4",
    "outputId": "0493c7e2-d729-4ad6-88af-fcdf91518375"
   },
   "outputs": [
    {
     "name": "stdout",
     "output_type": "stream",
     "text": [
      "Размер x_train: (60000, 28, 28)\n",
      "Размер y_train: (60000,)\n",
      "Размер x_test: (10000, 28, 28)\n",
      "Размер y_test: (10000,)\n"
     ]
    }
   ],
   "source": [
    "# Загрузка датасета\n",
    "(x_train, y_train), (x_test, y_test) = fashion_mnist.load_data()\n",
    "\n",
    "# Вывод размерностей выборок\n",
    "\n",
    "print('Размер x_train:',x_train.shape)\n",
    "print('Размер y_train:',y_train.shape)\n",
    "print('Размер x_test:',x_test.shape)\n",
    "print('Размер y_test:',y_test.shape)"
   ]
  },
  {
   "cell_type": "code",
   "execution_count": 4,
   "metadata": {
    "colab": {
     "base_uri": "https://localhost:8080/",
     "height": 198
    },
    "id": "VKM4z51g3sSX",
    "outputId": "d68373ab-d2ee-4d1b-da66-6ec38ddf7945"
   },
   "outputs": [
    {
     "data": {
      "image/png": "[encoded data removed]",
      "text/plain": [
       "<Figure size 3000x600 with 1 Axes>"
      ]
     },
     "metadata": {},
     "output_type": "display_data"
    }
   ],
   "source": [
    "# Выбор 1 изображения каждого класса\n",
    "imgs = np.array([x_train[y_train==i][0] for i in range(10)])\n",
    "\n",
    "# Соединение изображения в одну линию\n",
    "imgs = np.concatenate(imgs, axis=1)\n",
    "\n",
    "# Создание поля для изображения\n",
    "plt.figure(figsize=(30, 6))\n",
    "\n",
    "# Отрисовка итогового изображения\n",
    "plt.imshow(imgs, cmap='Greys_r')\n",
    "\n",
    "# Без сетки\n",
    "plt.grid(False)\n",
    "\n",
    "# Без осей\n",
    "plt.axis('off')\n",
    "\n",
    "# Вывод результата\n",
    "plt.show()"
   ]
  },
  {
   "cell_type": "code",
   "execution_count": 5,
   "metadata": {
    "id": "Sdh0t9_o4lAe"
   },
   "outputs": [],
   "source": [
    "# Ваше решение\n",
    "# Ячейка нормализации данных\n",
    "KLS = 10  # Количество классов\n",
    "x_train = x_train.reshape(x_train.shape[0], -1)  # Преобразование в вектор\n",
    "x_test = x_test.reshape(x_test.shape[0], -1)  # Преобразование в вектор\n",
    "x_train = x_train.astype(\"float32\") / 255.0  # Нормализация данных\n",
    "x_test = x_test.astype(\"float32\") / 255.0  # Нормализация данных\n",
    "\n",
    "# Преобразование меток в one-hot\n",
    "y_train = utils.to_categorical(y_train, num_classes=KLS)\n",
    "y_test = utils.to_categorical(y_test, num_classes=KLS)\n",
    "# Разделение обучающей выборки на train и validation\n",
    "x_train, x_val, y_train, y_val = train_test_split(\n",
    "    x_train, y_train, test_size=0.167, random_state=42\n",
    ")"
   ]
  },
  {
   "cell_type": "code",
   "execution_count": 6,
   "metadata": {
    "id": "ZUV7eltE5gQC"
   },
   "outputs": [
    {
     "name": "stderr",
     "output_type": "stream",
     "text": [
      "I0000 00:00:1748292086.780806   67639 gpu_device.cc:2022] Created device /job:localhost/replica:0/task:0/device:GPU:0 with 5563 MB memory:  -> device: 0, name: NVIDIA GeForce RTX 4060 Laptop GPU, pci bus id: 0000:01:00.0, compute capability: 8.9\n"
     ]
    }
   ],
   "source": [
    "models = [] # Список для хранения моделей\n",
    "drop_rate = 0.2 # Вероятность Dropout\n",
    "\n",
    "for ns in (64, 128):\n",
    "    # Базовая модель\n",
    "    model_ez = Sequential(\n",
    "        [\n",
    "            Input(shape=(x_train.shape[1],)),  # Входной слой\n",
    "            Dense(ns, activation=\"relu\"),\n",
    "            Dense(ns // 2, activation=\"relu\"),\n",
    "            Dense(KLS, activation=\"softmax\"),\n",
    "        ]\n",
    "    )\n",
    "    model_ez.compile(\n",
    "        loss=\"categorical_crossentropy\",\n",
    "        optimizer=Adam(learning_rate=0.001),\n",
    "        metrics=[\"accuracy\"],\n",
    "    )\n",
    "    models.append(model_ez)\n",
    "\n",
    "    # Модель с Dropout\n",
    "    model_dr = Sequential(\n",
    "        [\n",
    "            Input(shape=(x_train.shape[1],)),  # Входной слой\n",
    "            Dense(ns, activation=\"relu\"),\n",
    "            Dropout(drop_rate),\n",
    "            Dense(ns // 2, activation=\"relu\"),\n",
    "            Dropout(drop_rate),\n",
    "            Dense(KLS, activation=\"softmax\"),\n",
    "        ]\n",
    "    )\n",
    "    model_dr.compile(\n",
    "        loss=\"categorical_crossentropy\",\n",
    "        optimizer=Adam(learning_rate=0.001),\n",
    "        metrics=[\"accuracy\"],\n",
    "    )\n",
    "    models.append(model_dr)\n",
    "\n",
    "    # Модель с BatchNormalization\n",
    "    model_batch = Sequential(\n",
    "        [\n",
    "            Input(shape=(x_train.shape[1],)),  # Входной слой\n",
    "            Dense(ns, activation=\"relu\"),\n",
    "            BatchNormalization(),\n",
    "            Dense(ns // 2, activation=\"relu\"),\n",
    "            BatchNormalization(),\n",
    "            Dense(KLS, activation=\"softmax\"),\n",
    "        ]\n",
    "    )\n",
    "    model_batch.compile(\n",
    "        loss=\"categorical_crossentropy\",\n",
    "        optimizer=Adam(learning_rate=0.001),\n",
    "        metrics=[\"accuracy\"],\n",
    "    )\n",
    "    models.append(model_batch)\n",
    "\n",
    "    # Модель с Dropout + BatchNormalization\n",
    "    model_all = Sequential(\n",
    "        [\n",
    "            Input(shape=(x_train.shape[1],)),  # Входной слой\n",
    "            Dense(ns, activation=\"relu\"),\n",
    "            BatchNormalization(),\n",
    "            Dropout(drop_rate),\n",
    "            Dense(ns // 2, activation=\"relu\"),\n",
    "            BatchNormalization(),\n",
    "            Dropout(drop_rate),\n",
    "            Dense(KLS, activation=\"softmax\"),\n",
    "        ]\n",
    "    )\n",
    "    model_all.compile(\n",
    "        loss=\"categorical_crossentropy\",\n",
    "        optimizer=Adam(learning_rate=0.001),\n",
    "        metrics=[\"accuracy\"],\n",
    "    )\n",
    "    models.append(model_all)\n",
    "\n",
    "# Увеличенное количество нейронов, с Dropout + BatchNormalization\n",
    "model_deep = Sequential(\n",
    "    [\n",
    "        Input(shape=(x_train.shape[1],)),  # Входной слой\n",
    "        Dense(256, activation=\"relu\"),\n",
    "        BatchNormalization(),\n",
    "        Dropout(drop_rate),\n",
    "        Dense(128, activation=\"relu\"),\n",
    "        BatchNormalization(),\n",
    "        Dropout(drop_rate),\n",
    "        Dense(64, activation=\"relu\"),\n",
    "        BatchNormalization(),\n",
    "        Dropout(drop_rate),\n",
    "        Dense(KLS, activation=\"softmax\"),\n",
    "    ]\n",
    ")\n",
    "model_deep.compile(\n",
    "    loss=\"categorical_crossentropy\",\n",
    "    optimizer=Adam(learning_rate=0.001),\n",
    "    metrics=[\"accuracy\"],\n",
    ")\n",
    "models.append(model_deep)\n"
   ]
  },
  {
   "cell_type": "code",
   "execution_count": null,
   "metadata": {},
   "outputs": [
    {
     "name": "stdout",
     "output_type": "stream",
     "text": [
      "Модель 1 завершила обучение.\n",
      "Модель 2 завершила обучение.\n",
      "Модель 3 завершила обучение.\n",
      "Модель 4 завершила обучение.\n",
      "Модель 5 завершила обучение.\n",
      "Модель 6 завершила обучение.\n",
      "Модель 7 завершила обучение.\n",
      "Модель 8 завершила обучение.\n",
      "Модель 9 завершила обучение.\n"
     ]
    }
   ],
   "source": [
    "models_params = [] # Список для хранения параметров моделей\n",
    "\n",
    "# Обучение моделей\n",
    "for i, model in enumerate(models):\n",
    "    history = model.fit(\n",
    "        x_train,\n",
    "        y_train,\n",
    "        epochs=15,\n",
    "        batch_size=128,\n",
    "        validation_data=(x_val, y_val),\n",
    "        verbose=0,\n",
    "    )\n",
    "    # Определение количества классов и нейронов в зависимости от модели\n",
    "    nc = 2 \n",
    "    if i < 4:\n",
    "        ns = 64\n",
    "    elif i < 8:\n",
    "        ns = 128\n",
    "    else:\n",
    "        nc = 3\n",
    "        ns = 256\n",
    "\n",
    "    # Оценка модели на тестовой выборке\n",
    "    _, test_accuracy = model.evaluate(x_test, y_test, verbose=0) \n",
    "\n",
    "    # Сохранение параметров модели\n",
    "    models_params.append(\n",
    "        (\n",
    "            nc,\n",
    "            ns,\n",
    "            history.history[\"accuracy\"][-1],\n",
    "            history.history[\"val_accuracy\"][-1],\n",
    "            test_accuracy,\n",
    "        )\n",
    "    )\n",
    "    print(f\"Модель {i + 1} завершила обучение.\")"
   ]
  },
  {
   "cell_type": "code",
   "execution_count": null,
   "metadata": {},
   "outputs": [],
   "source": [
    "model_names = (\n",
    "    \"Простая\",\n",
    "    \"С Dropout\",\n",
    "    \"С BatchNormalization\",\n",
    "    \"С Dropout + BatchNormalizationПростая\",\n",
    "    \"Простая\",\n",
    "    \"С Dropout\",\n",
    "    \"С BatchNormalization\",\n",
    "    \"С Dropout + BatchNormalization\",\n",
    "    \"Глубокая с Dropout + BatchNormalization\",\n",
    ") # Список названий моделей\n",
    "\n",
    "# Создание сравнительной таблицы\n",
    "df_results = pd.DataFrame(\n",
    "    models_params,\n",
    "    columns=[\n",
    "        \"Число скрытых слоев\",\n",
    "        \"Число нейронов\",\n",
    "        \"Train Accuracy\",\n",
    "        \"Val Accuracy\",\n",
    "        \"Test Accuracy\",\n",
    "    ],\n",
    ")\n",
    "df_results.insert(0, \"Модель\", model_names)\n"
   ]
  },
  {
   "cell_type": "code",
   "execution_count": null,
   "metadata": {},
   "outputs": [
    {
     "data": {
      "application/vnd.microsoft.datawrangler.viewer.v0+json": {
       "columns": [
        {
         "name": "index",
         "rawType": "int64",
         "type": "integer"
        },
        {
         "name": "Модель",
         "rawType": "object",
         "type": "string"
        },
        {
         "name": "Число скрытых слоев",
         "rawType": "int64",
         "type": "integer"
        },
        {
         "name": "Число нейронов",
         "rawType": "int64",
         "type": "integer"
        },
        {
         "name": "Train Accuracy",
         "rawType": "float64",
         "type": "float"
        },
        {
         "name": "Val Accuracy",
         "rawType": "float64",
         "type": "float"
        },
        {
         "name": "Test Accuracy",
         "rawType": "float64",
         "type": "float"
        }
       ],
       "conversionMethod": "pd.DataFrame",
       "ref": "d843a037-fed8-4f22-84c7-5036ffcbe028",
       "rows": [
        [
         "0",
         "Простая",
         "2",
         "64",
         "0.9200000166893005",
         "0.8849999904632568",
         "0.8810999989509583"
        ],
        [
         "1",
         "С Dropout",
         "2",
         "64",
         "0.8779374957084656",
         "0.8727499842643738",
         "0.8689000010490417"
        ],
        [
         "2",
         "С BatchNormalization",
         "2",
         "64",
         "0.9179166555404663",
         "0.875",
         "0.8675000071525574"
        ],
        [
         "3",
         "С Dropout + BatchNormalizationПростая",
         "2",
         "64",
         "0.88260418176651",
         "0.8755000233650208",
         "0.8691999912261963"
        ],
        [
         "4",
         "Простая",
         "2",
         "128",
         "0.9206041693687439",
         "0.8831666707992554",
         "0.8762999773025513"
        ],
        [
         "5",
         "С Dropout",
         "2",
         "128",
         "0.895229160785675",
         "0.8866666555404663",
         "0.8819000124931335"
        ],
        [
         "6",
         "С BatchNormalization",
         "2",
         "128",
         "0.9262083172798157",
         "0.8838333487510681",
         "0.8756999969482422"
        ],
        [
         "7",
         "С Dropout + BatchNormalization",
         "2",
         "128",
         "0.8900208473205566",
         "0.8806666731834412",
         "0.8626000285148621"
        ],
        [
         "8",
         "Глубокая с Dropout + BatchNormalization",
         "3",
         "256",
         "0.890749990940094",
         "0.8825833201408386",
         "0.870199978351593"
        ]
       ],
       "shape": {
        "columns": 6,
        "rows": 9
       }
      },
      "text/html": [
       "<div>\n",
       "<style scoped>\n",
       "    .dataframe tbody tr th:only-of-type {\n",
       "        vertical-align: middle;\n",
       "    }\n",
       "\n",
       "    .dataframe tbody tr th {\n",
       "        vertical-align: top;\n",
       "    }\n",
       "\n",
       "    .dataframe thead th {\n",
       "        text-align: right;\n",
       "    }\n",
       "</style>\n",
       "<table border=\"1\" class=\"dataframe\">\n",
       "  <thead>\n",
       "    <tr style=\"text-align: right;\">\n",
       "      <th></th>\n",
       "      <th>Модель</th>\n",
       "      <th>Число скрытых слоев</th>\n",
       "      <th>Число нейронов</th>\n",
       "      <th>Train Accuracy</th>\n",
       "      <th>Val Accuracy</th>\n",
       "      <th>Test Accuracy</th>\n",
       "    </tr>\n",
       "  </thead>\n",
       "  <tbody>\n",
       "    <tr>\n",
       "      <th>0</th>\n",
       "      <td>Простая</td>\n",
       "      <td>2</td>\n",
       "      <td>64</td>\n",
       "      <td>0.920000</td>\n",
       "      <td>0.885000</td>\n",
       "      <td>0.8811</td>\n",
       "    </tr>\n",
       "    <tr>\n",
       "      <th>1</th>\n",
       "      <td>С Dropout</td>\n",
       "      <td>2</td>\n",
       "      <td>64</td>\n",
       "      <td>0.877937</td>\n",
       "      <td>0.872750</td>\n",
       "      <td>0.8689</td>\n",
       "    </tr>\n",
       "    <tr>\n",
       "      <th>2</th>\n",
       "      <td>С BatchNormalization</td>\n",
       "      <td>2</td>\n",
       "      <td>64</td>\n",
       "      <td>0.917917</td>\n",
       "      <td>0.875000</td>\n",
       "      <td>0.8675</td>\n",
       "    </tr>\n",
       "    <tr>\n",
       "      <th>3</th>\n",
       "      <td>С Dropout + BatchNormalizationПростая</td>\n",
       "      <td>2</td>\n",
       "      <td>64</td>\n",
       "      <td>0.882604</td>\n",
       "      <td>0.875500</td>\n",
       "      <td>0.8692</td>\n",
       "    </tr>\n",
       "    <tr>\n",
       "      <th>4</th>\n",
       "      <td>Простая</td>\n",
       "      <td>2</td>\n",
       "      <td>128</td>\n",
       "      <td>0.920604</td>\n",
       "      <td>0.883167</td>\n",
       "      <td>0.8763</td>\n",
       "    </tr>\n",
       "    <tr>\n",
       "      <th>5</th>\n",
       "      <td>С Dropout</td>\n",
       "      <td>2</td>\n",
       "      <td>128</td>\n",
       "      <td>0.895229</td>\n",
       "      <td>0.886667</td>\n",
       "      <td>0.8819</td>\n",
       "    </tr>\n",
       "    <tr>\n",
       "      <th>6</th>\n",
       "      <td>С BatchNormalization</td>\n",
       "      <td>2</td>\n",
       "      <td>128</td>\n",
       "      <td>0.926208</td>\n",
       "      <td>0.883833</td>\n",
       "      <td>0.8757</td>\n",
       "    </tr>\n",
       "    <tr>\n",
       "      <th>7</th>\n",
       "      <td>С Dropout + BatchNormalization</td>\n",
       "      <td>2</td>\n",
       "      <td>128</td>\n",
       "      <td>0.890021</td>\n",
       "      <td>0.880667</td>\n",
       "      <td>0.8626</td>\n",
       "    </tr>\n",
       "    <tr>\n",
       "      <th>8</th>\n",
       "      <td>Глубокая с Dropout + BatchNormalization</td>\n",
       "      <td>3</td>\n",
       "      <td>256</td>\n",
       "      <td>0.890750</td>\n",
       "      <td>0.882583</td>\n",
       "      <td>0.8702</td>\n",
       "    </tr>\n",
       "  </tbody>\n",
       "</table>\n",
       "</div>"
      ],
      "text/plain": [
       "                                    Модель  Число скрытых слоев  \\\n",
       "0                                  Простая                    2   \n",
       "1                                С Dropout                    2   \n",
       "2                     С BatchNormalization                    2   \n",
       "3    С Dropout + BatchNormalizationПростая                    2   \n",
       "4                                  Простая                    2   \n",
       "5                                С Dropout                    2   \n",
       "6                     С BatchNormalization                    2   \n",
       "7           С Dropout + BatchNormalization                    2   \n",
       "8  Глубокая с Dropout + BatchNormalization                    3   \n",
       "\n",
       "   Число нейронов  Train Accuracy  Val Accuracy  Test Accuracy  \n",
       "0              64        0.920000      0.885000         0.8811  \n",
       "1              64        0.877937      0.872750         0.8689  \n",
       "2              64        0.917917      0.875000         0.8675  \n",
       "3              64        0.882604      0.875500         0.8692  \n",
       "4             128        0.920604      0.883167         0.8763  \n",
       "5             128        0.895229      0.886667         0.8819  \n",
       "6             128        0.926208      0.883833         0.8757  \n",
       "7             128        0.890021      0.880667         0.8626  \n",
       "8             256        0.890750      0.882583         0.8702  "
      ]
     },
     "execution_count": 12,
     "metadata": {},
     "output_type": "execute_result"
    }
   ],
   "source": [
    "display(df_results)"
   ]
  }
 ],
 "metadata": {
  "accelerator": "GPU",
  "colab": {
   "provenance": []
  },
  "kernelspec": {
   "display_name": "global-cKEoLTwX-py3.12",
   "language": "python",
   "name": "python3"
  },
  "language_info": {
   "codemirror_mode": {
    "name": "ipython",
    "version": 3
   },
   "file_extension": ".py",
   "mimetype": "text/x-python",
   "name": "python",
   "nbconvert_exporter": "python",
   "pygments_lexer": "ipython3",
   "version": "3.12.3"
  }
 },
 "nbformat": 4,
 "nbformat_minor": 0
}
