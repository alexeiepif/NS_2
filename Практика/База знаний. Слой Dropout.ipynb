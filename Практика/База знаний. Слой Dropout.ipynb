{
 "cells": [
  {
   "cell_type": "markdown",
   "metadata": {
    "id": "sj_6r-zf_ZXJ"
   },
   "source": [
    "Класс `tf.keras.layers.Dropout`, создающий dropout-слой."
   ]
  },
  {
   "cell_type": "code",
   "execution_count": 3,
   "metadata": {
    "id": "DgMg5TF-2b6u"
   },
   "outputs": [],
   "source": [
    "import tensorflow as tf"
   ]
  },
  {
   "cell_type": "code",
   "execution_count": null,
   "metadata": {
    "id": "-hAvHJfX_SiR"
   },
   "outputs": [],
   "source": [
    "tf.keras.layers.Dropout(rate,                   # Шанс отбрасывания значения\n",
    "                        noise_shape=None,       # Маска исключения\n",
    "                        seed=None,\n",
    "                        **kwargs)"
   ]
  },
  {
   "cell_type": "markdown",
   "metadata": {
    "id": "2gaN07k2t-DC"
   },
   "source": [
    "Слой dropout случайным образом устанавливает для входных единиц значение 0 с частотой на каждом шаге во время обучения, что помогает предотвратить переобучение. Входы, для которых не установлено значение 0, умножаются на $\\frac{1}{1 - rate}$.\n",
    "\n",
    "Обратите внимание, что слой Dropout применяется только тогда, когда для обучения установлено значение `True`, так что во время вывода значения не удаляются. При использовании `model.fit` для обучения будет автоматически установлено значение `True`, а в других контекстах вы можете явно установить значение `training = True` при вызове слоя.\n",
    "\n",
    "Это контрастирует с установкой `trainable = False` для слоя Dropout. `trainable` не влияет на поведение слоя, так как Dropout не имеет никаких переменных / весов, которые можно заморозить во время обучения"
   ]
  },
  {
   "cell_type": "markdown",
   "metadata": {
    "id": "TPHIxnfiCV2M"
   },
   "source": [
    "# Параметры"
   ]
  },
  {
   "cell_type": "markdown",
   "metadata": {
    "id": "QQMDuMnjCdK9"
   },
   "source": [
    "## `rate`"
   ]
  },
  {
   "cell_type": "markdown",
   "metadata": {
    "id": "96Pk3_U1Cibt"
   },
   "source": [
    "Тип: `float` в пределах отрезка [0, 1].\n",
    "\n",
    "Описание: шанс отбрасывания значения. Каждое из значений входной матрицы либо обнуляется, либо умножается на $\\frac{1}{1 - rate}$.\n",
    "\n",
    "Примеры:<br>\n",
    "• `Dropout(rate=0.2)` – возвращает слой dropout c параметром 0.2. 20% обнуления элемента входного тензора;<br>\n",
    "• `Dropout(1.)` – возвращает слой dropout c параметром 1. Все входные данные заменяются нулями;<br>\n",
    "• `Dropout(.0)` – возвращает слой dropout c параметром 0. Слой не влияет на входной тензор.<br>"
   ]
  },
  {
   "cell_type": "markdown",
   "metadata": {
    "id": "8T2MFtVlEim_"
   },
   "source": [
    "##  `noise_shape`"
   ]
  },
  {
   "cell_type": "markdown",
   "metadata": {
    "id": "XyvtxoNTErTU"
   },
   "source": [
    "Тип: 1D целочисленный тензор.\n",
    "\n",
    "Описание: тензор, представляющий форму двоичной маски исключения, которая будет умножена на вход. Например, если ваши входные данные имеют форму `(batch_size, timesteps, features)`, и вы хотите, чтобы маска исключения была одинаковой для всех временных шагов, можете использовать `noise_shape = (batch_size, 1, features)`."
   ]
  },
  {
   "cell_type": "markdown",
   "metadata": {
    "id": "nYQY1xuVMiVs"
   },
   "source": [
    "## `seed`"
   ]
  },
  {
   "cell_type": "markdown",
   "metadata": {
    "id": "TlwRCQpvMld5"
   },
   "source": [
    "Тип: `int`.\n",
    "\n",
    "Описание: положительное число, отвечающее за начальное состояние слоя (под сомнением).\n",
    "\n",
    "*Рекомендуем для воспроизводимости экспериментов использовать `tf.random.set_seed(1)` перед каждым вызовом, так как `seed` в `Dropout` не обеспечивает воспроизводимых состояний.*"
   ]
  },
  {
   "cell_type": "markdown",
   "metadata": {
    "id": "HsQU7_3mST7N"
   },
   "source": [
    "# Аргументы вызова слоя"
   ]
  },
  {
   "cell_type": "markdown",
   "metadata": {
    "id": "4QQPyRivSfWT"
   },
   "source": [
    "## `inputs`"
   ]
  },
  {
   "cell_type": "markdown",
   "metadata": {
    "id": "CP3ooEVvSkWf"
   },
   "source": [
    "Тип: `np.ndarray`, `tf.Tensor` и аналогичные тензоры любого размера и формы.\n",
    "\n",
    "Описание: входной тензор.\n",
    "\n",
    "Примеры:<br>\n",
    "\n",
    "• `Dropout(0.2)([1.,1.,1.])` – создаем слой dropout и сразу вызываем его с тензором `[1.,1.,1.]`;<br>\n",
    "• `Dropout(rate=0.2)(np.array([1.,1.,1.]))` – аналогично предыдущему;<br>\n",
    "• `Dropout(0.2)(np.ones((10, 2, 3))` – создаем слой dropout и вызываем его, подавая тензор формы (10, 2, 3) из единиц;\n"
   ]
  },
  {
   "cell_type": "markdown",
   "metadata": {
    "id": "wwBnUtx2cg_b"
   },
   "source": [
    "## `training`\n"
   ]
  },
  {
   "cell_type": "markdown",
   "metadata": {
    "id": "DZbaLBrXcm-d"
   },
   "source": [
    "Тип: `bool` (по умолчанию: `False`).\n",
    "\n",
    "Описание: указывает, должен ли слой вести себя в режиме обучения (слой dropout выполняет свою функцию) или в режиме вывода (слой dropout ничего не делает). Режим обучения обычно активируется для всей модели."
   ]
  },
  {
   "cell_type": "markdown",
   "metadata": {
    "id": "s0fVHpmbdo31"
   },
   "source": [
    "#### Примеры"
   ]
  },
  {
   "cell_type": "markdown",
   "metadata": {
    "id": "Ad9VWCEgBegh"
   },
   "source": [
    "Если dropout без режима обучения, то тензор проходит через слой без изменений"
   ]
  },
  {
   "cell_type": "code",
   "execution_count": 1,
   "metadata": {
    "colab": {
     "base_uri": "https://localhost:8080/"
    },
    "id": "J09P0PnddKn-",
    "outputId": "6d9b0d87-afd4-464a-f0c3-b84da0dcd26a"
   },
   "outputs": [
    {
     "name": "stderr",
     "output_type": "stream",
     "text": [
      "WARNING: All log messages before absl::InitializeLog() is called are written to STDERR\n",
      "E0000 00:00:1740948510.277169  148931 cuda_dnn.cc:8310] Unable to register cuDNN factory: Attempting to register factory for plugin cuDNN when one has already been registered\n",
      "E0000 00:00:1740948510.287683  148931 cuda_blas.cc:1418] Unable to register cuBLAS factory: Attempting to register factory for plugin cuBLAS when one has already been registered\n",
      "I0000 00:00:1740948513.306608  148931 gpu_device.cc:2022] Created device /job:localhost/replica:0/task:0/device:GPU:0 with 5563 MB memory:  -> device: 0, name: NVIDIA GeForce RTX 4060 Laptop GPU, pci bus id: 0000:01:00.0, compute capability: 8.9\n"
     ]
    },
    {
     "data": {
      "text/plain": [
       "<tf.Tensor: shape=(5, 2), dtype=float32, numpy=\n",
       "array([[1., 1.],\n",
       "       [1., 1.],\n",
       "       [1., 1.],\n",
       "       [1., 1.],\n",
       "       [1., 1.]], dtype=float32)>"
      ]
     },
     "execution_count": 1,
     "metadata": {},
     "output_type": "execute_result"
    }
   ],
   "source": [
    "import numpy as np\n",
    "from tensorflow.keras.layers import Dropout\n",
    "\n",
    "# Входной тензор\n",
    "X = np.ones((5, 2))\n",
    "\n",
    "# Создание и вызов слоя в тестовом режиме\n",
    "Dropout(0.2)(X)"
   ]
  },
  {
   "cell_type": "markdown",
   "metadata": {
    "id": "_7qG4x2EBgyT"
   },
   "source": [
    "В режиме обучения dropout активируется"
   ]
  },
  {
   "cell_type": "code",
   "execution_count": 4,
   "metadata": {
    "colab": {
     "base_uri": "https://localhost:8080/"
    },
    "id": "6sQuZnKNdQsm",
    "outputId": "2aa2a4e4-083f-4994-e813-38063625cebc"
   },
   "outputs": [
    {
     "data": {
      "text/plain": [
       "<tf.Tensor: shape=(5, 2), dtype=float32, numpy=\n",
       "array([[1.25, 1.25],\n",
       "       [1.25, 0.  ],\n",
       "       [1.25, 1.25],\n",
       "       [1.25, 1.25],\n",
       "       [1.25, 1.25]], dtype=float32)>"
      ]
     },
     "execution_count": 4,
     "metadata": {},
     "output_type": "execute_result"
    }
   ],
   "source": [
    "# Задание состояния\n",
    "tf.random.set_seed(3)\n",
    "\n",
    "# Создание и вызов слоя в тренировочном режиме\n",
    "Dropout(0.2)(X, training=True)"
   ]
  },
  {
   "cell_type": "markdown",
   "metadata": {
    "id": "qrat3oD9Bp2j"
   },
   "source": [
    "## Пример"
   ]
  },
  {
   "cell_type": "code",
   "execution_count": 5,
   "metadata": {
    "id": "oqH5DMeQtTkM"
   },
   "outputs": [],
   "source": [
    "import numpy as np\n",
    "from keras.layers import Dropout"
   ]
  },
  {
   "cell_type": "code",
   "execution_count": 6,
   "metadata": {
    "colab": {
     "base_uri": "https://localhost:8080/"
    },
    "id": "J0TkiNeDzGkC",
    "outputId": "c08bfb54-deed-4ae4-9192-ea16aa829d4a"
   },
   "outputs": [
    {
     "data": {
      "text/plain": [
       "array([[1., 1.],\n",
       "       [1., 1.],\n",
       "       [1., 1.],\n",
       "       [1., 1.],\n",
       "       [1., 1.]])"
      ]
     },
     "execution_count": 6,
     "metadata": {},
     "output_type": "execute_result"
    }
   ],
   "source": [
    "# Инициализация входной матрицы\n",
    "X = np.ones((5, 2))\n",
    "X"
   ]
  },
  {
   "cell_type": "code",
   "execution_count": 7,
   "metadata": {
    "id": "ow5BxoS1zOCH"
   },
   "outputs": [],
   "source": [
    "# Создание слоя Dropout с параметром 0.2\n",
    "dropout_layer = Dropout(rate=0.5)"
   ]
  },
  {
   "cell_type": "markdown",
   "metadata": {
    "id": "cKBJ2Ve6Qdr5"
   },
   "source": [
    "Вызываем слой с аргументом созданной ранее матрицы.\n",
    "Не забываем настроить слой на обучение, иначе тензор не изменится."
   ]
  },
  {
   "cell_type": "code",
   "execution_count": 8,
   "metadata": {
    "colab": {
     "base_uri": "https://localhost:8080/"
    },
    "id": "FbA_lfY0QO26",
    "outputId": "e8e770aa-35cf-4a61-fd9d-2a9892d33115"
   },
   "outputs": [
    {
     "data": {
      "text/plain": [
       "<tf.Tensor: shape=(5, 2), dtype=float32, numpy=\n",
       "array([[0., 2.],\n",
       "       [2., 2.],\n",
       "       [0., 2.],\n",
       "       [0., 0.],\n",
       "       [0., 0.]], dtype=float32)>"
      ]
     },
     "execution_count": 8,
     "metadata": {},
     "output_type": "execute_result"
    }
   ],
   "source": [
    "dropout_layer(X, training=True)"
   ]
  }
 ],
 "metadata": {
  "accelerator": "GPU",
  "colab": {
   "provenance": []
  },
  "kernelspec": {
   "display_name": "global-cKEoLTwX-py3.12",
   "language": "python",
   "name": "python3"
  },
  "language_info": {
   "codemirror_mode": {
    "name": "ipython",
    "version": 3
   },
   "file_extension": ".py",
   "mimetype": "text/x-python",
   "name": "python",
   "nbconvert_exporter": "python",
   "pygments_lexer": "ipython3",
   "version": "3.12.3"
  }
 },
 "nbformat": 4,
 "nbformat_minor": 0
}
